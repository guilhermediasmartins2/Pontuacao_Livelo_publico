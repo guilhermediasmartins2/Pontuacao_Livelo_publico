{
 "cells": [
  {
   "cell_type": "code",
   "execution_count": 4,
   "metadata": {},
   "outputs": [],
   "source": [
    "import time\n",
    "import requests\n",
    "\n",
    "# criar o navegador\n",
    "from selenium import webdriver\n",
    "from selenium.webdriver.chrome.service import Service\n",
    "from webdriver_manager.chrome import ChromeDriverManager\n",
    "from selenium.webdriver.common.by import By\n",
    "from selenium.webdriver.common.keys import Keys\n",
    "from selenium.webdriver import ActionChains\n",
    "from selenium.webdriver.support.wait import WebDriverWait\n",
    "from selenium.webdriver.support import expected_conditions as EC\n",
    "from selenium.common.exceptions import TimeoutException\n",
    "from selenium_recaptcha_solver import RecaptchaSolver\n",
    "\n",
    "service = Service(ChromeDriverManager().install())\n",
    "options = webdriver.ChromeOptions()\n",
    "#options.add_argument(\"--headless=new\")\n",
    "navegador = webdriver.Chrome(service=service, options=options)\n",
    "wait = WebDriverWait(navegador, timeout=2)\n",
    "navegador.get(\"https://www.livelo.com.br/\")\n",
    "\n",
    "\n",
    "#Para enviar mensagem pelo Telegram\n",
    "API_KEY = \"API KEY do Telegram\"\n",
    "\n",
    "chat_id_grupo = \"chat_id da pessoa ou grupo\"\n"
   ]
  },
  {
   "cell_type": "code",
   "execution_count": 5,
   "metadata": {},
   "outputs": [],
   "source": [
    "empresas = [\"Amazon\", \"Buddha Spa\", \"Camicado\", \"CEA\", \"Centauro\", \"Decathlon\", \"Imaginarium\", \"Netshoes\", \"Renner\"]\n",
    "\n",
    "# https://www.mongodb.com/\n",
    "# undetectable-chrome-driver\n",
    "\n",
    "WebDriverWait(navegador, 10).until(\n",
    "    EC.presence_of_element_located((By.ID, \"div-controlLogin\"))\n",
    ")\n",
    "\n",
    "    \n",
    "navegador.find_element(By.ID, \"div-controlLogin\").click()\n",
    "\n"
   ]
  },
  {
   "cell_type": "code",
   "execution_count": 6,
   "metadata": {},
   "outputs": [
    {
     "name": "stdout",
     "output_type": "stream",
     "text": [
      "recaptcha not found\n"
     ]
    }
   ],
   "source": [
    "WebDriverWait(navegador, 10).until(\n",
    "    EC.presence_of_element_located((By.ID, \"fake-username\"))\n",
    ")\n",
    "\n",
    "navegador.find_element(By.ID, \"fake-username\").send_keys(\"login\")\n",
    "\n",
    "navegador.find_element(By.ID, \"password\").send_keys(\"senha\")\n",
    "\n",
    "navegador.find_element(By.ID, \"recaptcha-login-btn\").click()\n",
    "\n",
    "try:\n",
    "    # pip install selenium-recaptcha-solver\n",
    "    targetXpath = \"//iframe[contains(@title, 'o desafio reCAPTCHA expira em dois minutos') and contains(@style, 'width: 400px; height: 580px;')]\"\n",
    "    WebDriverWait(navegador, 2).until(\n",
    "        EC.presence_of_element_located((By.XPATH, targetXpath)))\n",
    "    recaptcha_iframe = navegador.find_element(By.XPATH, targetXpath)\n",
    "    solver = RecaptchaSolver(driver=navegador)\n",
    "    solver.solve_recaptcha_v2_challenge(iframe=recaptcha_iframe)\n",
    "except:\n",
    "    print(\"recaptcha not found\")\n",
    "    pass        "
   ]
  },
  {
   "cell_type": "code",
   "execution_count": 7,
   "metadata": {},
   "outputs": [],
   "source": [
    "#Fechar o cookies que aparecer\n",
    "\n",
    "while len(navegador.find_elements(By.ID, \"btn-authorizeCoookies\"))<1:\n",
    "      time.sleep(1)\n",
    "\n",
    "navegador.find_element(By.ID, \"btn-authorizeCoookies\").click()\n",
    "\n",
    "\n",
    "# Clicar nas opções para aparecer a lista de todos os parceiros\n",
    "\n",
    "while len(navegador.find_elements(By.ID, \"span-first-level-menu-2\")) == 0:\n",
    "    time.sleep(1)\n",
    "\n",
    "\n",
    "botao = navegador.find_element(By.ID, \"span-first-level-menu-2\")\n",
    "ActionChains(navegador).move_to_element(botao).perform()\n",
    "time.sleep(0.5)\n",
    "\n",
    "botao2 = navegador.find_element(By.ID, \"li-second-level-menu-2-1\")\n",
    "ActionChains(navegador).move_to_element(botao2).perform()\n",
    "time.sleep(0.5)\n",
    "\n",
    "botao3 = navegador.find_element(By.ID, 'li-third-level-menu-2-1-5')\n",
    "ActionChains(navegador).move_to_element(botao3).perform()\n",
    "time.sleep(0.5)\n",
    "navegador.find_element(By.ID, 'li-third-level-menu-2-1-5').click()\n",
    "while len(navegador.find_elements(By.ID, 'inpt-filterSearch')) ==0:\n",
    "        time.sleep(1)\n",
    "\n"
   ]
  },
  {
   "cell_type": "code",
   "execution_count": 8,
   "metadata": {},
   "outputs": [],
   "source": [
    "#Procurar os parceiros desejados\n",
    "\n",
    "for empresa in empresas:\n",
    "    navegador.find_element(By.ID, 'inpt-filterSearch').clear()\n",
    "    navegador.find_element(By.ID, 'inpt-filterSearch').send_keys(empresa)\n",
    "    navegador.find_element(By.ID, 'btn-partnerSearch').click()\n",
    "    while len(navegador.find_elements(By.XPATH, '//*[@id=\"img-parityImg\"]'))<1:\n",
    "        time.sleep(1)\n",
    "    navegador.find_element(By.XPATH, '//*[@id=\"img-parityImg\"]')\n",
    "    pontuacao = navegador.find_element(By.XPATH, '//*[@id=\"div-parityInfo\"]/div[2]/span[4]').text\n",
    "    if int(pontuacao) >= 5:\n",
    "        mensagem = (f\"A empresa {empresa} está com pontuação de {pontuacao} pontos!!\")\n",
    "        url1 = f\"https://api.telegram.org/bot{API_KEY}/sendMessage?chat_id={chat_id_grupo}&text={mensagem}\"\n",
    "        \n",
    "        print(requests.get(url1).json())\n",
    "        \n",
    "    else:\n",
    "        pass\n",
    "    \n",
    "    \n",
    "navegador.quit()"
   ]
  }
 ],
 "metadata": {
  "kernelspec": {
   "display_name": "Python 3",
   "language": "python",
   "name": "python3"
  },
  "language_info": {
   "codemirror_mode": {
    "name": "ipython",
    "version": 3
   },
   "file_extension": ".py",
   "mimetype": "text/x-python",
   "name": "python",
   "nbconvert_exporter": "python",
   "pygments_lexer": "ipython3",
   "version": "3.11.5"
  },
  "orig_nbformat": 4
 },
 "nbformat": 4,
 "nbformat_minor": 2
}
